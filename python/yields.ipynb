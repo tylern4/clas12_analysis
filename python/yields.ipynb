{
 "cells": [
  {
   "cell_type": "code",
   "execution_count": null,
   "metadata": {},
   "outputs": [],
   "source": [
    "%matplotlib inline\n",
    "# import packages\n",
    "import matplotlib.pyplot as plt\n",
    "import numpy as np\n",
    "import pandas as pd\n",
    "import boost_histogram as bh\n",
    "from scipy import stats\n",
    "\n",
    "import warnings\n",
    "warnings.filterwarnings('ignore')\n",
    "\n",
    "from lmfit.models import *\n",
    "from lmfit import Model, Parameters"
   ]
  },
  {
   "cell_type": "code",
   "execution_count": null,
   "metadata": {
    "scrolled": false
   },
   "outputs": [],
   "source": [
    "# read in reconstructed data\n",
    "rec = pd.read_csv(\"yeilds.csv\", index_col=False )\n",
    "rec = rec[(rec.w > 0)]\n",
    "rec['cos_theta'] = np.cos(rec.pip_theta).astype(np.float32)\n",
    "\n",
    "rec.head()"
   ]
  },
  {
   "cell_type": "code",
   "execution_count": null,
   "metadata": {},
   "outputs": [],
   "source": [
    "# plot W histogram\n",
    "\n",
    "# Make a figure and axes to plot on\n",
    "fig, ax = plt.subplots(figsize=(12,9))\n",
    "\n",
    "# Plot hist on axes\n",
    "ax.hist(rec.w, bins=300, alpha=0.5, label='data', density=True, )\n",
    "\n",
    "# put legend on axes\n",
    "ax.legend()\n",
    "\n",
    "# Show figure\n",
    "fig.show()"
   ]
  },
  {
   "cell_type": "code",
   "execution_count": null,
   "metadata": {
    "scrolled": false
   },
   "outputs": [],
   "source": [
    "# Create function to \n",
    "def mm_cut(df):\n",
    "    NSIGMA = 4\n",
    "    cut_data = {}\n",
    "    for sec in range(1,7):\n",
    "        # Seclect the data for the sector\n",
    "        data = df[df.electron_sector == sec]\n",
    "        # Make a figure to plot on\n",
    "        plt.figure(figsize=(12,9))\n",
    "        \n",
    "        # Histogram the data and \n",
    "        y,x = np.histogram(data.mm2.to_numpy(), \n",
    "                                 bins=100, range=(0.0,1.8), density=True)\n",
    "        \n",
    "        # calculate bin centers\n",
    "        x=(x[1:]+x[:-1])/2\n",
    "\n",
    "        # Plot points on\n",
    "        plt.errorbar(x,y,yerr=stats.sem(y), fmt='.', zorder=1)\n",
    "\n",
    "        # Make a model with a peak\n",
    "        peak = VoigtModel(prefix=\"peak_\")\n",
    "        pars = peak.make_params()\n",
    "        # Set some parameters\n",
    "        pars['peak_center'].set(value=0.9, min=0.8, max=1.0)\n",
    "        pars['peak_sigma'].set(value=0.1, min=0.0, max=0.5)\n",
    "        pars['peak_amplitude'].set(value=0.5)\n",
    "        \n",
    "        # Set the background\n",
    "        background =  PolynomialModel(5, prefix=\"back_\")\n",
    "        pars.update(background.guess(y, x=x))\n",
    "        \n",
    "        # Make full model to fit\n",
    "        model = peak + background\n",
    "        \n",
    "        # Fit our full model\n",
    "        out = model.fit(y, pars, x=x)\n",
    "        \n",
    "        # Make a more fine set of x's to plot with\n",
    "        xs= np.linspace(0.0, 1.8, 1000)\n",
    "        \n",
    "        # Plot our output model withe the new parameter and finer x's\n",
    "        plt.plot(xs, out.eval(params=out.params, x=xs), label='Total Fit')\n",
    "\n",
    "        # Get the components of the fit for our finer x's\n",
    "        comps = out.eval_components(x=xs)\n",
    "        # Plot just the peak component\n",
    "        plt.plot(xs, comps['peak_']/np.max(comps['peak_']), \n",
    "                 alpha=0.4, label=f\"Peak Fit {out.params['peak_center'].value:0.4f}\")\n",
    "        \n",
    "        # Plot center +- sigma where we will cut later\n",
    "        plt.axvline(out.params['peak_center']-NSIGMA*out.params['peak_sigma'])\n",
    "        plt.axvline(out.params['peak_center']+NSIGMA*out.params['peak_sigma'])\n",
    "        \n",
    "        # Put on labels and show the plot\n",
    "        plt.legend()\n",
    "        plt.show()\n",
    "        \n",
    "        # Save cut data to our\n",
    "        cut_data[sec] = (out.params['peak_center']-NSIGMA*out.params['peak_sigma'], \n",
    "                     out.params['peak_center']+NSIGMA*out.params['peak_sigma'])\n",
    "        \n",
    "\n",
    "    return cut_data"
   ]
  },
  {
   "cell_type": "code",
   "execution_count": null,
   "metadata": {
    "scrolled": false
   },
   "outputs": [],
   "source": [
    "sector_cuts = mm_cut(rec)"
   ]
  },
  {
   "cell_type": "code",
   "execution_count": null,
   "metadata": {},
   "outputs": [],
   "source": [
    "# https://lmfit.github.io/lmfit-py/builtin_models.html#example-3-fitting-multiple-peaks-and-using-prefixes\n",
    "dat = np.loadtxt('Gauss3.dat')\n",
    "x = dat[:, 1]\n",
    "y = dat[:, 0]\n",
    "\n",
    "exp_mod = ExponentialModel(prefix='exp_')\n",
    "pars = exp_mod.guess(y, x=x)\n",
    "\n",
    "gauss1 = GaussianModel(prefix='g1_')\n",
    "pars.update(gauss1.make_params())\n",
    "\n",
    "pars['g1_center'].set(value=105, min=75, max=125)\n",
    "pars['g1_sigma'].set(value=15, min=3)\n",
    "pars['g1_amplitude'].set(value=2000, min=10)\n",
    "\n",
    "gauss2 = GaussianModel(prefix='g2_')\n",
    "pars.update(gauss2.make_params())\n",
    "\n",
    "pars['g2_center'].set(value=155, min=125, max=175)\n",
    "pars['g2_sigma'].set(value=15, min=3)\n",
    "pars['g2_amplitude'].set(value=2000, min=10)\n",
    "\n",
    "mod = (gauss1 + gauss2) + exp_mod\n",
    "\n",
    "init = mod.eval(pars, x=x)\n",
    "out = mod.fit(y, pars, x=x)\n",
    "\n",
    "print(out.fit_report(min_correl=0.5))\n",
    "\n",
    "fig, axes = plt.subplots(1, 2, figsize=(12.8, 4.8))\n",
    "axes[0].plot(x, y, 'b')\n",
    "axes[0].plot(x, init, 'k--', label='initial fit')\n",
    "axes[0].plot(x, out.best_fit, 'r-', label='best fit')\n",
    "axes[0].legend(loc='best')\n",
    "\n",
    "comps = out.eval_components(x=x)\n",
    "axes[1].plot(x, y, 'b')\n",
    "axes[1].plot(x, comps['g1_'], 'g--', label='Gaussian component 1')\n",
    "axes[1].plot(x, comps['g2_'], 'm--', label='Gaussian component 2')\n",
    "axes[1].plot(x, comps['exp_'], 'k--', label='Exponential component')\n",
    "axes[1].legend(loc='best')\n",
    "\n",
    "plt.show()"
   ]
  },
  {
   "cell_type": "code",
   "execution_count": null,
   "metadata": {},
   "outputs": [],
   "source": []
  }
 ],
 "metadata": {
  "kernelspec": {
   "display_name": "Python 3",
   "language": "python",
   "name": "python3"
  },
  "language_info": {
   "codemirror_mode": {
    "name": "ipython",
    "version": 3
   },
   "file_extension": ".py",
   "mimetype": "text/x-python",
   "name": "python",
   "nbconvert_exporter": "python",
   "pygments_lexer": "ipython3",
   "version": "3.8.6"
  }
 },
 "nbformat": 4,
 "nbformat_minor": 2
}
